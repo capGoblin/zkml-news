{
  "cells": [
    {
      "cell_type": "markdown",
      "id": "cf69bb3f-94e6-4dba-92cd-ce08df117d67",
      "metadata": {
        "id": "cf69bb3f-94e6-4dba-92cd-ce08df117d67"
      },
      "source": [
        "## EZKL Jupyter Notebook Demo\n",
        "\n",
        "Here we demonstrate the use of the EZKL package in a Jupyter notebook whereby all components of the circuit are public or pre-committed to. This is the simplest case of using EZKL (proof of computation)."
      ]
    },
    {
      "cell_type": "code",
      "execution_count": null,
      "id": "95613ee9",
      "metadata": {
        "id": "95613ee9"
      },
      "outputs": [],
      "source": [
        "# check if notebook is in colab\n",
        "try:\n",
        "    # install ezkl\n",
        "    import google.colab\n",
        "    import subprocess\n",
        "    import sys\n",
        "    subprocess.check_call([sys.executable, \"-m\", \"pip\", \"install\", \"ezkl\"])\n",
        "    subprocess.check_call([sys.executable, \"-m\", \"pip\", \"install\", \"onnx\"])\n",
        "\n",
        "# rely on local installation of ezkl if the notebook is not in colab\n",
        "except:\n",
        "    pass\n",
        "\n",
        "\n",
        "# here we create and (potentially train a model)\n",
        "\n",
        "# make sure you have the dependencies required here already installed\n",
        "from torch import nn\n",
        "import ezkl\n",
        "import os\n",
        "import json\n",
        "import torch\n",
        "\n",
        "\n",
        "# Defines the model\n",
        "# we got convs, we got relu, we got linear layers\n",
        "# What else could one want ????\n",
        "\n",
        "class MyModel(nn.Module):\n",
        "    def __init__(self):\n",
        "        super(MyModel, self).__init__()\n",
        "\n",
        "        self.conv1 = nn.Conv2d(in_channels=1, out_channels=2, kernel_size=5, stride=2)\n",
        "        self.conv2 = nn.Conv2d(in_channels=2, out_channels=3, kernel_size=5, stride=2)\n",
        "\n",
        "        self.relu = nn.ReLU()\n",
        "\n",
        "        self.d1 = nn.Linear(48, 48)\n",
        "        self.d2 = nn.Linear(48, 10)\n",
        "\n",
        "    def forward(self, x):\n",
        "        # 32x1x28x28 => 32x32x26x26\n",
        "        x = self.conv1(x)\n",
        "        x = self.relu(x)\n",
        "        x = self.conv2(x)\n",
        "        x = self.relu(x)\n",
        "\n",
        "        # flatten => 32 x (32*26*26)\n",
        "        x = x.flatten(start_dim = 1)\n",
        "\n",
        "        # 32 x (32*26*26) => 32x128\n",
        "        x = self.d1(x)\n",
        "        x = self.relu(x)\n",
        "\n",
        "        # logits => 32x10\n",
        "        logits = self.d2(x)\n",
        "\n",
        "        return logits\n",
        "\n",
        "\n",
        "circuit = MyModel()\n",
        "\n",
        "# Train the model as you like here (skipped for brevity)\n",
        "\n",
        "\n"
      ]
    },
    {
      "cell_type": "code",
      "execution_count": null,
      "id": "b37637c4",
      "metadata": {
        "id": "b37637c4"
      },
      "outputs": [],
      "source": [
        "model_path = os.path.join('network.onnx')\n",
        "compiled_model_path = os.path.join('network.compiled')\n",
        "pk_path = os.path.join('test.pk')\n",
        "vk_path = os.path.join('test.vk')\n",
        "settings_path = os.path.join('settings.json')\n",
        "\n",
        "witness_path = os.path.join('witness.json')\n",
        "data_path = os.path.join('input.json')"
      ]
    },
    {
      "cell_type": "code",
      "execution_count": null,
      "id": "82db373a",
      "metadata": {
        "id": "82db373a"
      },
      "outputs": [],
      "source": [
        "\n",
        "shape = [1, 28, 28]\n",
        "# After training, export to onnx (network.onnx) and create a data file (input.json)\n",
        "x = 0.1*torch.rand(1,*shape, requires_grad=True)\n",
        "\n",
        "# Flips the neural net into inference mode\n",
        "circuit.eval()\n",
        "\n",
        "    # Export the model\n",
        "torch.onnx.export(circuit,               # model being run\n",
        "                      x,                   # model input (or a tuple for multiple inputs)\n",
        "                      model_path,            # where to save the model (can be a file or file-like object)\n",
        "                      export_params=True,        # store the trained parameter weights inside the model file\n",
        "                      opset_version=10,          # the ONNX version to export the model to\n",
        "                      do_constant_folding=True,  # whether to execute constant folding for optimization\n",
        "                      input_names = ['input'],   # the model's input names\n",
        "                      output_names = ['output'], # the model's output names\n",
        "                      dynamic_axes={'input' : {0 : 'batch_size'},    # variable length axes\n",
        "                                    'output' : {0 : 'batch_size'}})\n",
        "\n",
        "data_array = ((x).detach().numpy()).reshape([-1]).tolist()\n",
        "\n",
        "data = dict(input_data = [data_array])\n",
        "\n",
        "    # Serialize data into file:\n",
        "json.dump( data, open(data_path, 'w' ))\n"
      ]
    },
    {
      "cell_type": "code",
      "execution_count": null,
      "id": "d5e374a2",
      "metadata": {
        "id": "d5e374a2"
      },
      "outputs": [],
      "source": [
        "\n",
        "py_run_args = ezkl.PyRunArgs()\n",
        "py_run_args.input_visibility = \"public\"\n",
        "py_run_args.output_visibility = \"public\"\n",
        "py_run_args.param_visibility = \"fixed\" # \"fixed\" for params means that the committed to params are used for all proofs\n",
        "\n",
        "res = ezkl.gen_settings(model_path, settings_path, py_run_args=py_run_args)\n",
        "assert res == True\n"
      ]
    },
    {
      "cell_type": "code",
      "execution_count": null,
      "id": "b78d3cbf",
      "metadata": {
        "id": "b78d3cbf"
      },
      "outputs": [],
      "source": [
        "cal_path = os.path.join(\"calibration.json\")\n",
        "\n",
        "data_array = (torch.rand(20, *shape, requires_grad=True).detach().numpy()).reshape([-1]).tolist()\n",
        "\n",
        "data = dict(input_data = [data_array])\n",
        "\n",
        "# Serialize data into file:\n",
        "json.dump(data, open(cal_path, 'w'))\n",
        "\n",
        "\n",
        "await ezkl.calibrate_settings(cal_path, model_path, settings_path, \"resources\")"
      ]
    },
    {
      "cell_type": "code",
      "execution_count": null,
      "id": "3aa4f090",
      "metadata": {
        "id": "3aa4f090"
      },
      "outputs": [],
      "source": [
        "res = ezkl.compile_circuit(model_path, compiled_model_path, settings_path)\n",
        "assert res == True"
      ]
    },
    {
      "cell_type": "code",
      "execution_count": null,
      "id": "8b74dcee",
      "metadata": {
        "id": "8b74dcee"
      },
      "outputs": [],
      "source": [
        "# srs path\n",
        "res = ezkl.get_srs( settings_path)"
      ]
    },
    {
      "cell_type": "code",
      "execution_count": null,
      "id": "18c8b7c7",
      "metadata": {
        "id": "18c8b7c7"
      },
      "outputs": [],
      "source": [
        "# now generate the witness file\n",
        "\n",
        "res = await ezkl.gen_witness(data_path, compiled_model_path, witness_path)\n",
        "assert os.path.isfile(witness_path)"
      ]
    },
    {
      "cell_type": "code",
      "execution_count": null,
      "id": "b1c561a8",
      "metadata": {
        "id": "b1c561a8"
      },
      "outputs": [],
      "source": [
        "\n",
        "# HERE WE SETUP THE CIRCUIT PARAMS\n",
        "# WE GOT KEYS\n",
        "# WE GOT CIRCUIT PARAMETERS\n",
        "# EVERYTHING ANYONE HAS EVER NEEDED FOR ZK\n",
        "\n",
        "\n",
        "\n",
        "res = ezkl.setup(\n",
        "        compiled_model_path,\n",
        "        vk_path,\n",
        "        pk_path,\n",
        "\n",
        "    )\n",
        "\n",
        "assert res == True\n",
        "assert os.path.isfile(vk_path)\n",
        "assert os.path.isfile(pk_path)\n",
        "assert os.path.isfile(settings_path)"
      ]
    },
    {
      "cell_type": "code",
      "execution_count": null,
      "id": "c384cbc8",
      "metadata": {
        "id": "c384cbc8"
      },
      "outputs": [],
      "source": [
        "# GENERATE A PROOF\n",
        "\n",
        "\n",
        "proof_path = os.path.join('test.pf')\n",
        "\n",
        "res = ezkl.prove(\n",
        "        witness_path,\n",
        "        compiled_model_path,\n",
        "        pk_path,\n",
        "        proof_path,\n",
        "\n",
        "        \"single\",\n",
        "    )\n",
        "\n",
        "print(res)\n",
        "assert os.path.isfile(proof_path)"
      ]
    },
    {
      "cell_type": "code",
      "execution_count": null,
      "id": "76f00d41",
      "metadata": {
        "id": "76f00d41"
      },
      "outputs": [],
      "source": [
        "# VERIFY IT\n",
        "\n",
        "res = ezkl.verify(\n",
        "        proof_path,\n",
        "        settings_path,\n",
        "        vk_path,\n",
        "\n",
        "    )\n",
        "\n",
        "assert res == True\n",
        "print(\"verified\")"
      ]
    },
    {
      "cell_type": "code",
      "source": [
        "!pip install ezkl onnx\n",
        "import torch\n",
        "import torch.nn as nn\n",
        "import torch.onnx\n",
        "import json\n",
        "import os\n",
        "import ezkl\n",
        "import onnx\n",
        "import nest_asyncio\n",
        "nest_asyncio.apply()\n"
      ],
      "metadata": {
        "id": "bzuUcVuCG38U"
      },
      "id": "bzuUcVuCG38U",
      "execution_count": null,
      "outputs": []
    },
    {
      "cell_type": "code",
      "source": [
        "# STEP 0: Install dependencies\n",
        "!pip install ezkl sentence-transformers scikit-learn nest_asyncio\n",
        "\n",
        "import torch\n",
        "import torch.nn as nn\n",
        "import torch.onnx\n",
        "import json\n",
        "import os\n",
        "import ezkl\n",
        "import numpy as np\n",
        "from sklearn.decomposition import PCA\n",
        "from sentence_transformers import SentenceTransformer\n",
        "import nest_asyncio\n",
        "nest_asyncio.apply()\n"
      ],
      "metadata": {
        "collapsed": true,
        "id": "sHS2ER_HvPkq"
      },
      "id": "sHS2ER_HvPkq",
      "execution_count": null,
      "outputs": []
    },
    {
      "cell_type": "code",
      "source": [
        "# STEP 1: Define and export the PyTorch model (input size = 32)\n",
        "class SimpleZKMLModel(nn.Module):\n",
        "    def __init__(self):\n",
        "        super(SimpleZKMLModel, self).__init__()\n",
        "        self.net = nn.Sequential(\n",
        "            nn.Linear(32, 16),\n",
        "            nn.ReLU(),\n",
        "            nn.Linear(16, 1),\n",
        "            nn.Sigmoid()\n",
        "        )\n",
        "    def forward(self, x):\n",
        "        return self.net(x)\n",
        "\n",
        "model = SimpleZKMLModel()\n",
        "model.eval()\n",
        "\n",
        "# Save ONNX model\n",
        "onnx_model_path = \"zk_model.onnx\"\n",
        "dummy_input = torch.rand(1, 32)\n",
        "torch.onnx.export(\n",
        "    model, dummy_input, onnx_model_path,\n",
        "    input_names=[\"input\"], output_names=[\"output\"],\n",
        "    opset_version=11\n",
        ")\n"
      ],
      "metadata": {
        "id": "UJlT7dufvSqc"
      },
      "id": "UJlT7dufvSqc",
      "execution_count": null,
      "outputs": []
    },
    {
      "cell_type": "code",
      "source": [
        "# STEP 2: Prepare real sentence embeddings and PCA projection to fit input\n",
        "encoder = SentenceTransformer(\"sentence-transformers/paraphrase-MiniLM-L6-v2\")\n",
        "\n",
        "# Train PCA (need at least 16+ samples)\n",
        "samples = [\n",
        "    \"Cats are animals.\", \"Dogs are loyal.\", \"The sky is blue.\", \"Water boils at 100C.\",\n",
        "    \"Sun rises in the east.\", \"Fire is hot.\", \"Snow is cold.\", \"Fish swim.\",\n",
        "    \"Birds fly.\", \"Humans need oxygen.\", \"The Earth orbits the Sun.\", \"Time is continuous.\",\n",
        "    \"Energy is conserved.\", \"Gravity pulls downward.\", \"Sound travels in waves.\",\n",
        "    \"Light is electromagnetic.\", \"Plants need sunlight.\", \"Electrons carry charge.\"\n",
        "]\n",
        "X = encoder.encode(samples)\n",
        "pca = PCA(n_components=16)\n",
        "pca.fit(X)\n",
        "\n",
        "def preprocess(claim, evidence):\n",
        "    c_vec = encoder.encode(claim)\n",
        "    e_vec = encoder.encode(evidence)\n",
        "    c_pca = pca.transform([c_vec])[0]\n",
        "    e_pca = pca.transform([e_vec])[0]\n",
        "    return np.concatenate([c_pca, e_pca]).tolist()\n",
        "\n",
        "# Example sentence pair\n",
        "vec = preprocess(\"The Earth is flat\", \"NASA shows Earth is round\")\n",
        "input_data = { \"input_data\": [vec] }\n",
        "\n",
        "with open(\"input.json\", \"w\") as f:\n",
        "    json.dump(input_data, f)\n"
      ],
      "metadata": {
        "id": "zeQtLHw3wKGc"
      },
      "id": "zeQtLHw3wKGc",
      "execution_count": null,
      "outputs": []
    },
    {
      "cell_type": "code",
      "source": [
        "# STEP 3: Generate settings and calibrate\n",
        "settings_path = \"settings.json\"\n",
        "py_run_args = ezkl.PyRunArgs()\n",
        "py_run_args.input_visibility = \"private\"\n",
        "py_run_args.output_visibility = \"public\"\n",
        "py_run_args.param_visibility = \"private\"\n",
        "py_run_args.logrows = 17\n",
        "\n",
        "assert ezkl.gen_settings(onnx_model_path, settings_path, py_run_args)\n",
        "assert await ezkl.calibrate_settings(\"input.json\", onnx_model_path, settings_path, \"resources\")\n"
      ],
      "metadata": {
        "id": "I1vjyUvywdS1"
      },
      "id": "I1vjyUvywdS1",
      "execution_count": null,
      "outputs": []
    },
    {
      "cell_type": "code",
      "source": [
        "# STEP 4: Compile circuit\n",
        "compiled_model_path = \"zk_model.ezkl\"\n",
        "assert ezkl.compile_circuit(onnx_model_path, compiled_model_path, settings_path)\n"
      ],
      "metadata": {
        "id": "PhPjyN40wfKE"
      },
      "id": "PhPjyN40wfKE",
      "execution_count": null,
      "outputs": []
    },
    {
      "cell_type": "code",
      "source": [
        "# STEP 5: Generate witness for the claim-evidence pair\n",
        "witness_path = \"witness.json\"\n",
        "assert await ezkl.gen_witness(\"input.json\", compiled_model_path, witness_path)\n"
      ],
      "metadata": {
        "id": "Jeq__r6Dwhwt"
      },
      "id": "Jeq__r6Dwhwt",
      "execution_count": null,
      "outputs": []
    },
    {
      "cell_type": "code",
      "source": [
        "# !rm -f ~/.ezkl/srs/kzg15.srs\n",
        "# !mkdir -p ~/.ezkl/srs\n",
        "# !curl -L -o ~/.ezkl/srs/kzg15.srs https://ezkl-public.s3.us-west-2.amazonaws.com/kzg15.srs\n"
      ],
      "metadata": {
        "id": "E_5r0nOew44Z"
      },
      "id": "E_5r0nOew44Z",
      "execution_count": null,
      "outputs": []
    },
    {
      "cell_type": "code",
      "source": [
        "# from google.colab import files\n",
        "\n",
        "# uploaded = files.upload()  # Upload your local kzg15.srs file\n"
      ],
      "metadata": {
        "collapsed": true,
        "id": "g2QRK_DFxLYi"
      },
      "id": "g2QRK_DFxLYi",
      "execution_count": null,
      "outputs": []
    },
    {
      "cell_type": "code",
      "source": [
        "# !mkdir -p ~/.ezkl/srs\n",
        "# !mv kzg15.srs ~/.ezkl/srs/kzg15.srs\n",
        "\n"
      ],
      "metadata": {
        "id": "B5ngG1_rx2Dh"
      },
      "id": "B5ngG1_rx2Dh",
      "execution_count": null,
      "outputs": []
    },
    {
      "cell_type": "code",
      "source": [
        "# !ls -lh ~/.ezkl/srs/kzg15.srs"
      ],
      "metadata": {
        "id": "CSBm8RFjx4vN"
      },
      "id": "CSBm8RFjx4vN",
      "execution_count": null,
      "outputs": []
    },
    {
      "cell_type": "code",
      "source": [
        "vk_path = \"test.vk\"\n",
        "pk_path = \"test.pk\"\n",
        "assert ezkl.setup(compiled_model_path, vk_path, pk_path)\n"
      ],
      "metadata": {
        "id": "haYRQ-ajwkew"
      },
      "id": "haYRQ-ajwkew",
      "execution_count": null,
      "outputs": []
    },
    {
      "cell_type": "code",
      "source": [
        "# STEP 7: Generate and verify proof\n",
        "proof_path = \"test.pf\"\n",
        "assert ezkl.prove(witness_path, compiled_model_path, pk_path, proof_path, \"single\")\n",
        "assert ezkl.verify(proof_path, settings_path, vk_path)\n",
        "print(\"✅ Proof verified!\")\n"
      ],
      "metadata": {
        "id": "0iOSNVF7yLoE"
      },
      "id": "0iOSNVF7yLoE",
      "execution_count": null,
      "outputs": []
    },
    {
      "cell_type": "code",
      "source": [
        "# Swap in new claim + evidence\n",
        "new_vec = preprocess(\"Apples are fruit\", \"Apples grow on trees\")\n",
        "with open(\"input.json\", \"w\") as f:\n",
        "    json.dump({ \"input_data\": [new_vec] }, f)\n",
        "\n",
        "# Re-run witness → prove → verify\n",
        "assert await ezkl.gen_witness(\"input.json\", compiled_model_path, witness_path)\n",
        "assert ezkl.prove(witness_path, compiled_model_path, pk_path, proof_path, \"single\")\n",
        "assert ezkl.verify(proof_path, settings_path, vk_path)\n",
        "print(\"✅ New claim-evidence pair verified!\")\n"
      ],
      "metadata": {
        "id": "tQb4YpI1yQJc"
      },
      "id": "tQb4YpI1yQJc",
      "execution_count": null,
      "outputs": []
    },
    {
      "cell_type": "code",
      "source": [
        "class SimpleZKMLModel(nn.Module):\n",
        "    def __init__(self):\n",
        "        super(SimpleZKMLModel, self).__init__()\n",
        "        self.net = nn.Sequential(\n",
        "            nn.Linear(32, 16),\n",
        "            nn.ReLU(),\n",
        "            nn.Linear(16, 1),\n",
        "            nn.Sigmoid()\n",
        "        )\n",
        "    def forward(self, x):\n",
        "        return self.net(x)\n",
        "\n",
        "model = SimpleZKMLModel()\n",
        "model.eval()\n"
      ],
      "metadata": {
        "id": "rhV9m7A6G5dh"
      },
      "id": "rhV9m7A6G5dh",
      "execution_count": null,
      "outputs": []
    },
    {
      "cell_type": "code",
      "source": [
        "x = torch.rand(1, 32)\n",
        "onnx_model_path = \"zk_model.onnx\"\n",
        "\n",
        "torch.onnx.export(\n",
        "    model,\n",
        "    x,\n",
        "    onnx_model_path,\n",
        "    input_names=[\"input\"],\n",
        "    output_names=[\"output\"],\n",
        "    dynamic_axes=None,\n",
        "    opset_version=11\n",
        ")\n"
      ],
      "metadata": {
        "id": "9s2A8AInG6pV"
      },
      "id": "9s2A8AInG6pV",
      "execution_count": null,
      "outputs": []
    },
    {
      "cell_type": "code",
      "source": [
        "input_data = {\n",
        "    \"input_data\": [x.detach().numpy().reshape(-1).tolist()]\n",
        "}\n",
        "\n",
        "with open(\"input.json\", \"w\") as f:\n",
        "    json.dump(input_data, f)\n"
      ],
      "metadata": {
        "id": "xKE0kO6KG7sm"
      },
      "id": "xKE0kO6KG7sm",
      "execution_count": null,
      "outputs": []
    },
    {
      "cell_type": "code",
      "source": [
        "settings_path = \"settings.json\"\n",
        "py_run_args = ezkl.PyRunArgs()\n",
        "py_run_args.input_visibility = \"private\"\n",
        "py_run_args.output_visibility = \"public\"\n",
        "py_run_args.param_visibility = \"private\"\n",
        "py_run_args.logrows = 17  # Adjustable if needed\n",
        "\n",
        "res = ezkl.gen_settings(onnx_model_path, settings_path, py_run_args=py_run_args)\n",
        "assert res == True\n"
      ],
      "metadata": {
        "id": "_fL3p341G8_G"
      },
      "id": "_fL3p341G8_G",
      "execution_count": null,
      "outputs": []
    },
    {
      "cell_type": "code",
      "source": [
        "res = await ezkl.calibrate_settings(\"input.json\", onnx_model_path, settings_path, \"resources\")\n",
        "assert res == True\n"
      ],
      "metadata": {
        "id": "Zh09yxBKG-WK"
      },
      "id": "Zh09yxBKG-WK",
      "execution_count": null,
      "outputs": []
    },
    {
      "cell_type": "code",
      "source": [
        "compiled_model_path = \"zk_model.ezkl\"\n",
        "res = ezkl.compile_circuit(onnx_model_path, compiled_model_path, settings_path)\n",
        "assert res == True\n"
      ],
      "metadata": {
        "id": "1kWnnbnyG_eD"
      },
      "id": "1kWnnbnyG_eD",
      "execution_count": null,
      "outputs": []
    },
    {
      "cell_type": "code",
      "source": [
        "witness_path = \"witness.json\"\n",
        "res = await ezkl.gen_witness(\"input.json\", compiled_model_path, witness_path)\n",
        "assert os.path.isfile(witness_path)\n"
      ],
      "metadata": {
        "id": "WOJqK0tAHpZM"
      },
      "id": "WOJqK0tAHpZM",
      "execution_count": null,
      "outputs": []
    },
    {
      "cell_type": "code",
      "source": [
        "vk_path = \"test.vk\"\n",
        "pk_path = \"test.pk\"\n",
        "\n",
        "res = ezkl.setup(compiled_model_path, vk_path, pk_path)\n",
        "assert res == True\n"
      ],
      "metadata": {
        "id": "DWtokDaFHrCQ"
      },
      "id": "DWtokDaFHrCQ",
      "execution_count": null,
      "outputs": []
    },
    {
      "cell_type": "code",
      "source": [
        "proof_path = \"test.pf\"\n",
        "\n",
        "res = ezkl.prove(witness_path, compiled_model_path, pk_path, proof_path, \"single\")\n",
        "assert os.path.isfile(proof_path)\n"
      ],
      "metadata": {
        "id": "CY9vV3sVHsLt"
      },
      "id": "CY9vV3sVHsLt",
      "execution_count": null,
      "outputs": []
    },
    {
      "cell_type": "code",
      "source": [
        "res = ezkl.verify(proof_path, settings_path, vk_path)\n",
        "assert res == True\n",
        "print(\"✅ Proof Verified!\")\n"
      ],
      "metadata": {
        "id": "0H2-HLF5HuFX"
      },
      "id": "0H2-HLF5HuFX",
      "execution_count": null,
      "outputs": []
    },
    {
      "cell_type": "code",
      "source": [
        "from sentence_transformers import SentenceTransformer\n",
        "from sklearn.decomposition import PCA\n",
        "import numpy as np\n",
        "import json\n",
        "\n",
        "encoder = SentenceTransformer(\"sentence-transformers/paraphrase-MiniLM-L6-v2\")\n",
        "\n",
        "# Collect >16 samples to train PCA\n",
        "samples = [\n",
        "    \"Cats are animals.\",\n",
        "    \"Dogs are loyal.\",\n",
        "    \"The sky is blue.\",\n",
        "    \"Water boils at 100C.\",\n",
        "    \"Sun rises in the east.\",\n",
        "    \"Fire is hot.\",\n",
        "    \"Snow is cold.\",\n",
        "    \"Fish swim.\",\n",
        "    \"Birds fly.\",\n",
        "    \"Humans need oxygen.\",\n",
        "    \"The Earth orbits the Sun.\",\n",
        "    \"Time is continuous.\",\n",
        "    \"Energy is conserved.\",\n",
        "    \"Gravity pulls downward.\",\n",
        "    \"Sound travels in waves.\",\n",
        "    \"Light is electromagnetic.\",\n",
        "    \"Plants need sunlight.\",\n",
        "    \"Electrons carry charge.\"\n",
        "]\n",
        "\n",
        "X = encoder.encode(samples)\n",
        "pca = PCA(n_components=16)\n",
        "pca.fit(X)\n",
        "\n",
        "def preprocess(claim, evidence):\n",
        "    c_vec = encoder.encode(claim)\n",
        "    e_vec = encoder.encode(evidence)\n",
        "    c_pca = pca.transform([c_vec])[0]\n",
        "    e_pca = pca.transform([e_vec])[0]\n",
        "    final_input = np.concatenate([c_pca, e_pca])\n",
        "    return final_input.tolist()\n",
        "\n",
        "# Your claim and evidence\n",
        "input_vec = preprocess(\"The Earth is flat\", \"NASA shows Earth is round\")\n",
        "\n",
        "with open(\"input.json\", \"w\") as f:\n",
        "    json.dump({ \"input_data\": [input_vec] }, f)\n"
      ],
      "metadata": {
        "id": "GzmxFf1rK4R3"
      },
      "id": "GzmxFf1rK4R3",
      "execution_count": null,
      "outputs": []
    },
    {
      "cell_type": "code",
      "source": [
        "await ezkl.gen_witness(\"input.json\", \"zk_model.ezkl\", \"witness.json\")\n",
        "ezkl.prove(\"witness.json\", \"zk_model.ezkl\", \"test.pk\", \"test.pf\", \"single\")\n",
        "ezkl.verify(\"test.pf\", \"settings.json\", \"test.vk\")\n"
      ],
      "metadata": {
        "id": "N7BobfWJLPVC"
      },
      "id": "N7BobfWJLPVC",
      "execution_count": null,
      "outputs": []
    },
    {
      "cell_type": "code",
      "source": [
        "res = await ezkl.gen_witness(\"input.json\", \"zk_model.ezkl\", \"witness.json\")\n",
        "assert res\n",
        "\n",
        "res = ezkl.prove(\"witness.json\", \"zk_model.ezkl\", \"test.pk\", \"test.pf\", \"single\")\n",
        "assert res\n",
        "\n",
        "res = ezkl.verify(\"test.pf\", \"settings.json\", \"test.vk\")\n",
        "assert res\n",
        "print(\"✅ New claim-evidence pair verified!\")\n"
      ],
      "metadata": {
        "id": "2uULI-erLyiw"
      },
      "id": "2uULI-erLyiw",
      "execution_count": null,
      "outputs": []
    }
  ],
  "metadata": {
    "kernelspec": {
      "display_name": "Python 3",
      "name": "python3"
    },
    "language_info": {
      "codemirror_mode": {
        "name": "ipython",
        "version": 3
      },
      "file_extension": ".py",
      "mimetype": "text/x-python",
      "name": "python",
      "nbconvert_exporter": "python",
      "pygments_lexer": "ipython3",
      "version": "3.12.3"
    },
    "colab": {
      "provenance": []
    }
  },
  "nbformat": 4,
  "nbformat_minor": 5
}